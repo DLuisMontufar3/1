{
  "nbformat": 4,
  "nbformat_minor": 0,
  "metadata": {
    "colab": {
      "provenance": [],
      "authorship_tag": "ABX9TyMSSurBUPCnqbDJlucH/EIn",
      "include_colab_link": true
    },
    "kernelspec": {
      "name": "python3",
      "display_name": "Python 3"
    },
    "language_info": {
      "name": "python"
    }
  },
  "cells": [
    {
      "cell_type": "markdown",
      "metadata": {
        "id": "view-in-github",
        "colab_type": "text"
      },
      "source": [
        "<a href=\"https://colab.research.google.com/github/DLuisMontufar3/1/blob/main/Si1.ipynb\" target=\"_parent\"><img src=\"https://colab.research.google.com/assets/colab-badge.svg\" alt=\"Open In Colab\"/></a>"
      ]
    },
    {
      "cell_type": "markdown",
      "source": [
        "1. Ejercicio de programación\n",
        "\n",
        "1.1. \"Hola Mundo\": Imprimir hola mundo"
      ],
      "metadata": {
        "id": "w2WgnoSku7LK"
      }
    },
    {
      "cell_type": "code",
      "source": [
        "print(\"Hola mundo soy Luis\")"
      ],
      "metadata": {
        "colab": {
          "base_uri": "https://localhost:8080/"
        },
        "id": "qLlOXY0fuI2y",
        "outputId": "a0d2650d-8f69-4615-8907-77fb08f2580d"
      },
      "execution_count": 101,
      "outputs": [
        {
          "output_type": "stream",
          "name": "stdout",
          "text": [
            "Hola mundo soy Luis\n"
          ]
        }
      ]
    },
    {
      "cell_type": "markdown",
      "source": [
        "1.2 Declarar variables: Declara variables entero y string"
      ],
      "metadata": {
        "id": "rxqln6cuva32"
      }
    },
    {
      "cell_type": "code",
      "source": [
        "#int\n",
        "x=6\n",
        "#string\n",
        "A='abcde'\n",
        "print(x)\n",
        "print(\"A=\"+A)"
      ],
      "metadata": {
        "colab": {
          "base_uri": "https://localhost:8080/"
        },
        "id": "gCfmdoBuvloU",
        "outputId": "d5e07c9e-3120-4f31-bb21-1c4c828522dd"
      },
      "execution_count": 102,
      "outputs": [
        {
          "output_type": "stream",
          "name": "stdout",
          "text": [
            "6\n",
            "A=abcde\n"
          ]
        }
      ]
    },
    {
      "cell_type": "markdown",
      "source": [
        "1.3 Operaciones: Operaciones entre variables"
      ],
      "metadata": {
        "id": "-nHmILKrxyc-"
      }
    },
    {
      "cell_type": "code",
      "source": [
        "x=1\n",
        "y=2\n",
        "z=3\n",
        "w=x+y+z\n",
        "l=x-y-z\n",
        "print(w)\n",
        "print(l)"
      ],
      "metadata": {
        "colab": {
          "base_uri": "https://localhost:8080/"
        },
        "id": "VmW2OesBx8XQ",
        "outputId": "4bebfe5c-6187-402d-cc01-d7acdc93a5ec"
      },
      "execution_count": 103,
      "outputs": [
        {
          "output_type": "stream",
          "name": "stdout",
          "text": [
            "6\n",
            "-4\n"
          ]
        }
      ]
    },
    {
      "cell_type": "markdown",
      "source": [
        "1.4 Arreglos: Declarar un arreglo, agregar un elemento, ubicación de un elemento, concatenar arreglos."
      ],
      "metadata": {
        "id": "4uhr1_HcyjzU"
      }
    },
    {
      "cell_type": "code",
      "source": [
        "materias = [\"Programción orientada a objetos\" , \"Introduccion a Sistemas de Informacion\", \"Arquitectura de Computadoras\"]\n",
        "print(materias)\n",
        "print(materias[1])\n",
        "materias.append(\"Fundamentos de Computación\")\n",
        "print(materias)"
      ],
      "metadata": {
        "colab": {
          "base_uri": "https://localhost:8080/"
        },
        "id": "3hzp71vMyzab",
        "outputId": "2bbdf52e-c482-413d-8bfc-52dfc9045077"
      },
      "execution_count": 104,
      "outputs": [
        {
          "output_type": "stream",
          "name": "stdout",
          "text": [
            "['Programción orientada a objetos', 'Introduccion a Sistemas de Informacion', 'Arquitectura de Computadoras']\n",
            "Introduccion a Sistemas de Informacion\n",
            "['Programción orientada a objetos', 'Introduccion a Sistemas de Informacion', 'Arquitectura de Computadoras', 'Fundamentos de Computación']\n"
          ]
        }
      ]
    },
    {
      "cell_type": "code",
      "source": [
        "materias=[\"Fundamentos de computación\", \"Intoducción a Sistemas de Informacion \"]\n",
        "facultad=[\"SISTEMAS\"]\n",
        "c=materias+facultad\n",
        "print(c)"
      ],
      "metadata": {
        "colab": {
          "base_uri": "https://localhost:8080/"
        },
        "id": "-mPeZBAk2Nbs",
        "outputId": "241b1c99-6da3-4373-84b7-95aceb61d459"
      },
      "execution_count": 105,
      "outputs": [
        {
          "output_type": "stream",
          "name": "stdout",
          "text": [
            "['Fundamentos de computación', 'Intoducción a Sistemas de Informacion ', 'SISTEMAS']\n"
          ]
        }
      ]
    },
    {
      "cell_type": "markdown",
      "source": [
        "1.4 for"
      ],
      "metadata": {
        "id": "WidH3nly366p"
      }
    },
    {
      "cell_type": "code",
      "source": [
        "for i in range(5):\n",
        "  print(i)"
      ],
      "metadata": {
        "colab": {
          "base_uri": "https://localhost:8080/"
        },
        "id": "Hye5-paC4C4z",
        "outputId": "79d54556-a7b2-4641-b1af-9348946e3fb6"
      },
      "execution_count": 106,
      "outputs": [
        {
          "output_type": "stream",
          "name": "stdout",
          "text": [
            "0\n",
            "1\n",
            "2\n",
            "3\n",
            "4\n"
          ]
        }
      ]
    },
    {
      "cell_type": "markdown",
      "source": [
        "1.5 if"
      ],
      "metadata": {
        "id": "CfmTDmtO588D"
      }
    },
    {
      "cell_type": "code",
      "source": [
        "x=7\n",
        "if x>= 7:\n",
        "  print(\"aprobado\")\n",
        "else:\n",
        "  print(\"no aprueba\")"
      ],
      "metadata": {
        "colab": {
          "base_uri": "https://localhost:8080/"
        },
        "id": "M6SB9jbk5_Mx",
        "outputId": "3ba55441-db4c-4c9e-e2d6-ff0de56650b4"
      },
      "execution_count": 107,
      "outputs": [
        {
          "output_type": "stream",
          "name": "stdout",
          "text": [
            "aprobado\n"
          ]
        }
      ]
    }
  ]
}